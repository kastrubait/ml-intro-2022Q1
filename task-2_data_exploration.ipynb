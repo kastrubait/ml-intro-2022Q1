{
 "cells": [
  {
   "cell_type": "code",
   "execution_count": 382,
   "id": "b489cb9e",
   "metadata": {},
   "outputs": [],
   "source": [
    "import pandas as pd\n",
    "import numpy as np\n",
    "\n",
    "pd.set_option('display.max_column', None)\n",
    "\n",
    "import seaborn as sns\n",
    "import matplotlib\n",
    "import matplotlib.pyplot as plt\n",
    "%matplotlib inline\n",
    "\n",
    "sns.set_style('whitegrid')\n",
    "matplotlib.rcParams['font.size'] = 12\n",
    "matplotlib.rcParams['figure.figsize'] = (20, 5)\n",
    "matplotlib.rcParams['figure.facecolor'] = '#f6f6f6'"
   ]
  },
  {
   "cell_type": "code",
   "execution_count": 383,
   "id": "cfd5dc56",
   "metadata": {},
   "outputs": [
    {
     "name": "stdout",
     "output_type": "stream",
     "text": [
      "(100000, 11)\n",
      "Index(['survived', 'pclass', 'name', 'sex', 'age', 'sibsp', 'parch', 'ticket',\n",
      "       'fare', 'cabin', 'embarked'],\n",
      "      dtype='object')\n"
     ]
    }
   ],
   "source": [
    "# Load the data from csv file to the Pandas dataframe as\n",
    "train_df = pd.read_csv('./train.csv', encoding = 'unicode_escape', index_col= 'PassengerId')\n",
    "train_df.columns = [column.lower() for column in train_df.columns]\n",
    "\n",
    "Y_train = train_df['survived']\n",
    "\n",
    "print(train_df.shape)\n",
    "print(train_df.columns) "
   ]
  },
  {
   "cell_type": "code",
   "execution_count": 384,
   "id": "3ce18bad",
   "metadata": {},
   "outputs": [
    {
     "data": {
      "text/html": [
       "<div>\n",
       "<style scoped>\n",
       "    .dataframe tbody tr th:only-of-type {\n",
       "        vertical-align: middle;\n",
       "    }\n",
       "\n",
       "    .dataframe tbody tr th {\n",
       "        vertical-align: top;\n",
       "    }\n",
       "\n",
       "    .dataframe thead th {\n",
       "        text-align: right;\n",
       "    }\n",
       "</style>\n",
       "<table border=\"1\" class=\"dataframe\">\n",
       "  <thead>\n",
       "    <tr style=\"text-align: right;\">\n",
       "      <th></th>\n",
       "      <th>survived</th>\n",
       "      <th>pclass</th>\n",
       "      <th>name</th>\n",
       "      <th>sex</th>\n",
       "      <th>age</th>\n",
       "      <th>sibsp</th>\n",
       "      <th>parch</th>\n",
       "      <th>ticket</th>\n",
       "      <th>fare</th>\n",
       "      <th>cabin</th>\n",
       "      <th>embarked</th>\n",
       "    </tr>\n",
       "    <tr>\n",
       "      <th>PassengerId</th>\n",
       "      <th></th>\n",
       "      <th></th>\n",
       "      <th></th>\n",
       "      <th></th>\n",
       "      <th></th>\n",
       "      <th></th>\n",
       "      <th></th>\n",
       "      <th></th>\n",
       "      <th></th>\n",
       "      <th></th>\n",
       "      <th></th>\n",
       "    </tr>\n",
       "  </thead>\n",
       "  <tbody>\n",
       "    <tr>\n",
       "      <th>0</th>\n",
       "      <td>1</td>\n",
       "      <td>1</td>\n",
       "      <td>Oconnor, Frankie</td>\n",
       "      <td>male</td>\n",
       "      <td>NaN</td>\n",
       "      <td>2</td>\n",
       "      <td>0</td>\n",
       "      <td>209245</td>\n",
       "      <td>27.14</td>\n",
       "      <td>C12239</td>\n",
       "      <td>S</td>\n",
       "    </tr>\n",
       "    <tr>\n",
       "      <th>1</th>\n",
       "      <td>0</td>\n",
       "      <td>3</td>\n",
       "      <td>Bryan, Drew</td>\n",
       "      <td>male</td>\n",
       "      <td>NaN</td>\n",
       "      <td>0</td>\n",
       "      <td>0</td>\n",
       "      <td>27323</td>\n",
       "      <td>13.35</td>\n",
       "      <td>NaN</td>\n",
       "      <td>S</td>\n",
       "    </tr>\n",
       "    <tr>\n",
       "      <th>2</th>\n",
       "      <td>0</td>\n",
       "      <td>3</td>\n",
       "      <td>Owens, Kenneth</td>\n",
       "      <td>male</td>\n",
       "      <td>0.33</td>\n",
       "      <td>1</td>\n",
       "      <td>2</td>\n",
       "      <td>CA 457703</td>\n",
       "      <td>71.29</td>\n",
       "      <td>NaN</td>\n",
       "      <td>S</td>\n",
       "    </tr>\n",
       "    <tr>\n",
       "      <th>3</th>\n",
       "      <td>0</td>\n",
       "      <td>3</td>\n",
       "      <td>Kramer, James</td>\n",
       "      <td>male</td>\n",
       "      <td>19.00</td>\n",
       "      <td>0</td>\n",
       "      <td>0</td>\n",
       "      <td>A. 10866</td>\n",
       "      <td>13.04</td>\n",
       "      <td>NaN</td>\n",
       "      <td>S</td>\n",
       "    </tr>\n",
       "    <tr>\n",
       "      <th>4</th>\n",
       "      <td>1</td>\n",
       "      <td>3</td>\n",
       "      <td>Bond, Michael</td>\n",
       "      <td>male</td>\n",
       "      <td>25.00</td>\n",
       "      <td>0</td>\n",
       "      <td>0</td>\n",
       "      <td>427635</td>\n",
       "      <td>7.76</td>\n",
       "      <td>NaN</td>\n",
       "      <td>S</td>\n",
       "    </tr>\n",
       "  </tbody>\n",
       "</table>\n",
       "</div>"
      ],
      "text/plain": [
       "             survived  pclass              name   sex    age  sibsp  parch  \\\n",
       "PassengerId                                                                  \n",
       "0                   1       1  Oconnor, Frankie  male    NaN      2      0   \n",
       "1                   0       3       Bryan, Drew  male    NaN      0      0   \n",
       "2                   0       3    Owens, Kenneth  male   0.33      1      2   \n",
       "3                   0       3     Kramer, James  male  19.00      0      0   \n",
       "4                   1       3     Bond, Michael  male  25.00      0      0   \n",
       "\n",
       "                ticket   fare   cabin embarked  \n",
       "PassengerId                                     \n",
       "0               209245  27.14  C12239        S  \n",
       "1                27323  13.35     NaN        S  \n",
       "2            CA 457703  71.29     NaN        S  \n",
       "3             A. 10866  13.04     NaN        S  \n",
       "4               427635   7.76     NaN        S  "
      ]
     },
     "execution_count": 384,
     "metadata": {},
     "output_type": "execute_result"
    }
   ],
   "source": [
    "train_df.head()"
   ]
  },
  {
   "cell_type": "code",
   "execution_count": 385,
   "id": "0182cfb1",
   "metadata": {},
   "outputs": [
    {
     "name": "stdout",
     "output_type": "stream",
     "text": [
      "<class 'pandas.core.frame.DataFrame'>\n",
      "Int64Index: 100000 entries, 0 to 99999\n",
      "Data columns (total 11 columns):\n",
      " #   Column    Non-Null Count   Dtype  \n",
      "---  ------    --------------   -----  \n",
      " 0   survived  100000 non-null  int64  \n",
      " 1   pclass    100000 non-null  int64  \n",
      " 2   name      100000 non-null  object \n",
      " 3   sex       100000 non-null  object \n",
      " 4   age       96708 non-null   float64\n",
      " 5   sibsp     100000 non-null  int64  \n",
      " 6   parch     100000 non-null  int64  \n",
      " 7   ticket    95377 non-null   object \n",
      " 8   fare      99866 non-null   float64\n",
      " 9   cabin     32134 non-null   object \n",
      " 10  embarked  99750 non-null   object \n",
      "dtypes: float64(2), int64(4), object(5)\n",
      "memory usage: 9.2+ MB\n"
     ]
    }
   ],
   "source": [
    "train_df.info()"
   ]
  },
  {
   "cell_type": "markdown",
   "id": "d07912a0",
   "metadata": {},
   "source": [
    "# Context"
   ]
  },
  {
   "cell_type": "code",
   "execution_count": 386,
   "id": "6b981d68",
   "metadata": {},
   "outputs": [],
   "source": [
    "# 1. Check the %null values in data\n",
    "# 2. Filling missing values\n",
    "# 3. Change datatypes if required"
   ]
  },
  {
   "cell_type": "markdown",
   "id": "9b4320c6",
   "metadata": {},
   "source": [
    "# Data quality assessment"
   ]
  },
  {
   "cell_type": "code",
   "execution_count": 387,
   "id": "e443ca82",
   "metadata": {},
   "outputs": [
    {
     "data": {
      "text/plain": [
       "survived     0.000\n",
       "pclass       0.000\n",
       "name         0.000\n",
       "sex          0.000\n",
       "age          3.292\n",
       "sibsp        0.000\n",
       "parch        0.000\n",
       "ticket       4.623\n",
       "fare         0.134\n",
       "cabin       67.866\n",
       "embarked     0.250\n",
       "dtype: float64"
      ]
     },
     "execution_count": 387,
     "metadata": {},
     "output_type": "execute_result"
    }
   ],
   "source": [
    "# Check the %null values in data\n",
    "res_1 = train_df.isnull().sum()/len(train_df)*100\n",
    "\n",
    "res_1  # We can see that columns \"age\", \"ticket\", \"fare\", \"cabin\" and \"embarked\" have null values"
   ]
  },
  {
   "cell_type": "code",
   "execution_count": 388,
   "id": "3da1ecee",
   "metadata": {},
   "outputs": [
    {
     "data": {
      "image/png": "[encoded data removed]",
      "text/plain": [
       "<Figure size 1440x360 with 1 Axes>"
      ]
     },
     "metadata": {},
     "output_type": "display_data"
    }
   ],
   "source": [
    "sns.barplot(x = res_1.values, y = list(res_1.index), color = '#F00000')\n",
    "plt.title('% null values', color = '#F00000')\n",
    "\n",
    "ax = plt.gca()\n",
    "ax.set_facecolor('#f6f6f6')\n",
    "for s in [\"top\", \"right\"]:\n",
    "    ax.spines[s].set_visible(False)"
   ]
  },
  {
   "cell_type": "code",
   "execution_count": 389,
   "id": "e12451f3",
   "metadata": {},
   "outputs": [
    {
     "name": "stdout",
     "output_type": "stream",
     "text": [
      "None      67866\n",
      "C19828        6\n",
      "B18148        5\n",
      "C9767         5\n",
      "A9127         5\n",
      "          ...  \n",
      "C7208         1\n",
      "A5788         1\n",
      "C5607         1\n",
      "D14672        1\n",
      "D17243        1\n",
      "Name: cabin, Length: 26993, dtype: int64\n"
     ]
    }
   ],
   "source": [
    "# Filling 'cabin' values\n",
    "# 67% values are missing here, so fill it with 'None' if the value is not present\n",
    "train_df['cabin'] = train_df['cabin'].fillna('None')\n",
    "\n",
    "for col in ['cabin']:\n",
    "    print(train_df[col].value_counts())"
   ]
  },
  {
   "cell_type": "code",
   "execution_count": 390,
   "id": "95f3158e",
   "metadata": {},
   "outputs": [
    {
     "data": {
      "text/plain": [
       "N    67866\n",
       "C    11825\n",
       "B     7439\n",
       "A     6307\n",
       "D     3637\n",
       "E     1749\n",
       "F      663\n",
       "G      482\n",
       "T       32\n",
       "Name: cabintype, dtype: int64"
      ]
     },
     "execution_count": 390,
     "metadata": {},
     "output_type": "execute_result"
    }
   ],
   "source": [
    "train_df['cabintype'] = train_df['cabin'].str[0]\n",
    "train_df['cabintype'].value_counts()"
   ]
  },
  {
   "cell_type": "code",
   "execution_count": 391,
   "id": "204e3830",
   "metadata": {},
   "outputs": [
    {
     "data": {
      "text/plain": [
       "survived     0.0\n",
       "pclass       0.0\n",
       "name         0.0\n",
       "sex          0.0\n",
       "age          0.0\n",
       "sibsp        0.0\n",
       "parch        0.0\n",
       "ticket       0.0\n",
       "fare         0.0\n",
       "cabin        0.0\n",
       "embarked     0.0\n",
       "cabintype    0.0\n",
       "dtype: float64"
      ]
     },
     "execution_count": 391,
     "metadata": {},
     "output_type": "execute_result"
    }
   ],
   "source": [
    "# Fill 'age' and 'fare' value with their mean value\n",
    "for col in ['age', 'fare']:\n",
    "    train_df[col] = train_df[col].fillna(train_df[col].mean())\n",
    "\n",
    "# Fill 'embarked' and 'ticket' values with their mode value\n",
    "for col in ['embarked', 'ticket']:\n",
    "    train_df[col] = train_df[col].fillna(train_df[col].mode()[0])\n",
    "\n",
    "# Verify there are no null values\n",
    "train_df.isnull().sum()/len(train_df)*100"
   ]
  },
  {
   "cell_type": "code",
   "execution_count": 392,
   "id": "402295ff",
   "metadata": {},
   "outputs": [
    {
     "name": "stdout",
     "output_type": "stream",
     "text": [
      "name : 92.144\n",
      "sex : 0.002\n",
      "ticket : 75.331\n",
      "cabin : 26.993\n",
      "embarked : 0.003\n",
      "cabintype : 0.009\n"
     ]
    }
   ],
   "source": [
    "# We will check %unique values in column\n",
    "\n",
    "feature_cols = train_df.drop(['survived'], axis=1).columns\n",
    "\n",
    "# Getting all the data that are not of \"object\" type.\n",
    "num_cols = train_df[feature_cols].select_dtypes(include=['int64','float64']).columns\n",
    "cat_cols = train_df[feature_cols].select_dtypes(exclude=['int64','float64']).columns\n",
    "\n",
    "numerical = ['age', 'fare']\n",
    "categorical = train_df[feature_cols].drop(columns=numerical).columns\n",
    "\n",
    "# print(len(numerical), len(categorical))\n",
    "\n",
    "for col in cat_cols:\n",
    "    print(f\"{col} : {round(train_df[col].nunique()/len(train_df)*100, 3)}\")\n"
   ]
  },
  {
   "cell_type": "code",
   "execution_count": 393,
   "id": "2e559e54",
   "metadata": {},
   "outputs": [
    {
     "data": {
      "text/html": [
       "<div>\n",
       "<style scoped>\n",
       "    .dataframe tbody tr th:only-of-type {\n",
       "        vertical-align: middle;\n",
       "    }\n",
       "\n",
       "    .dataframe tbody tr th {\n",
       "        vertical-align: top;\n",
       "    }\n",
       "\n",
       "    .dataframe thead th {\n",
       "        text-align: right;\n",
       "    }\n",
       "</style>\n",
       "<table border=\"1\" class=\"dataframe\">\n",
       "  <thead>\n",
       "    <tr style=\"text-align: right;\">\n",
       "      <th></th>\n",
       "      <th>survived</th>\n",
       "      <th>pclass</th>\n",
       "      <th>sex</th>\n",
       "      <th>age</th>\n",
       "      <th>sibsp</th>\n",
       "      <th>parch</th>\n",
       "      <th>fare</th>\n",
       "      <th>cabin</th>\n",
       "      <th>embarked</th>\n",
       "      <th>cabintype</th>\n",
       "    </tr>\n",
       "    <tr>\n",
       "      <th>PassengerId</th>\n",
       "      <th></th>\n",
       "      <th></th>\n",
       "      <th></th>\n",
       "      <th></th>\n",
       "      <th></th>\n",
       "      <th></th>\n",
       "      <th></th>\n",
       "      <th></th>\n",
       "      <th></th>\n",
       "      <th></th>\n",
       "    </tr>\n",
       "  </thead>\n",
       "  <tbody>\n",
       "    <tr>\n",
       "      <th>0</th>\n",
       "      <td>1</td>\n",
       "      <td>1</td>\n",
       "      <td>male</td>\n",
       "      <td>38.355472</td>\n",
       "      <td>2</td>\n",
       "      <td>0</td>\n",
       "      <td>27.14</td>\n",
       "      <td>C12239</td>\n",
       "      <td>S</td>\n",
       "      <td>C</td>\n",
       "    </tr>\n",
       "    <tr>\n",
       "      <th>1</th>\n",
       "      <td>0</td>\n",
       "      <td>3</td>\n",
       "      <td>male</td>\n",
       "      <td>38.355472</td>\n",
       "      <td>0</td>\n",
       "      <td>0</td>\n",
       "      <td>13.35</td>\n",
       "      <td>None</td>\n",
       "      <td>S</td>\n",
       "      <td>N</td>\n",
       "    </tr>\n",
       "    <tr>\n",
       "      <th>2</th>\n",
       "      <td>0</td>\n",
       "      <td>3</td>\n",
       "      <td>male</td>\n",
       "      <td>0.330000</td>\n",
       "      <td>1</td>\n",
       "      <td>2</td>\n",
       "      <td>71.29</td>\n",
       "      <td>None</td>\n",
       "      <td>S</td>\n",
       "      <td>N</td>\n",
       "    </tr>\n",
       "    <tr>\n",
       "      <th>3</th>\n",
       "      <td>0</td>\n",
       "      <td>3</td>\n",
       "      <td>male</td>\n",
       "      <td>19.000000</td>\n",
       "      <td>0</td>\n",
       "      <td>0</td>\n",
       "      <td>13.04</td>\n",
       "      <td>None</td>\n",
       "      <td>S</td>\n",
       "      <td>N</td>\n",
       "    </tr>\n",
       "    <tr>\n",
       "      <th>4</th>\n",
       "      <td>1</td>\n",
       "      <td>3</td>\n",
       "      <td>male</td>\n",
       "      <td>25.000000</td>\n",
       "      <td>0</td>\n",
       "      <td>0</td>\n",
       "      <td>7.76</td>\n",
       "      <td>None</td>\n",
       "      <td>S</td>\n",
       "      <td>N</td>\n",
       "    </tr>\n",
       "  </tbody>\n",
       "</table>\n",
       "</div>"
      ],
      "text/plain": [
       "             survived  pclass   sex        age  sibsp  parch   fare   cabin  \\\n",
       "PassengerId                                                                   \n",
       "0                   1       1  male  38.355472      2      0  27.14  C12239   \n",
       "1                   0       3  male  38.355472      0      0  13.35    None   \n",
       "2                   0       3  male   0.330000      1      2  71.29    None   \n",
       "3                   0       3  male  19.000000      0      0  13.04    None   \n",
       "4                   1       3  male  25.000000      0      0   7.76    None   \n",
       "\n",
       "            embarked cabintype  \n",
       "PassengerId                     \n",
       "0                  S         C  \n",
       "1                  S         N  \n",
       "2                  S         N  \n",
       "3                  S         N  \n",
       "4                  S         N  "
      ]
     },
     "execution_count": 393,
     "metadata": {},
     "output_type": "execute_result"
    }
   ],
   "source": [
    "# 'name' and 'ticket' columns have more than 92% & 75% unique values respectively. \n",
    "# They don't give any information to the model just as is.\n",
    "\n",
    "train_df.drop(['name', 'ticket'], axis = 1, inplace = True)\n",
    "train_df.head()"
   ]
  },
  {
   "cell_type": "code",
   "execution_count": 394,
   "id": "c7dd05a8",
   "metadata": {},
   "outputs": [
    {
     "data": {
      "text/html": [
       "<div>\n",
       "<style scoped>\n",
       "    .dataframe tbody tr th:only-of-type {\n",
       "        vertical-align: middle;\n",
       "    }\n",
       "\n",
       "    .dataframe tbody tr th {\n",
       "        vertical-align: top;\n",
       "    }\n",
       "\n",
       "    .dataframe thead th {\n",
       "        text-align: right;\n",
       "    }\n",
       "</style>\n",
       "<table border=\"1\" class=\"dataframe\">\n",
       "  <thead>\n",
       "    <tr style=\"text-align: right;\">\n",
       "      <th></th>\n",
       "      <th>sample</th>\n",
       "      <th>dtype</th>\n",
       "    </tr>\n",
       "  </thead>\n",
       "  <tbody>\n",
       "    <tr>\n",
       "      <th>survived</th>\n",
       "      <td>1</td>\n",
       "      <td>int64</td>\n",
       "    </tr>\n",
       "    <tr>\n",
       "      <th>pclass</th>\n",
       "      <td>1</td>\n",
       "      <td>int64</td>\n",
       "    </tr>\n",
       "    <tr>\n",
       "      <th>sex</th>\n",
       "      <td>male</td>\n",
       "      <td>object</td>\n",
       "    </tr>\n",
       "    <tr>\n",
       "      <th>age</th>\n",
       "      <td>38.355472</td>\n",
       "      <td>float64</td>\n",
       "    </tr>\n",
       "    <tr>\n",
       "      <th>sibsp</th>\n",
       "      <td>2</td>\n",
       "      <td>int64</td>\n",
       "    </tr>\n",
       "    <tr>\n",
       "      <th>parch</th>\n",
       "      <td>0</td>\n",
       "      <td>int64</td>\n",
       "    </tr>\n",
       "    <tr>\n",
       "      <th>fare</th>\n",
       "      <td>27.14</td>\n",
       "      <td>float64</td>\n",
       "    </tr>\n",
       "    <tr>\n",
       "      <th>cabin</th>\n",
       "      <td>C12239</td>\n",
       "      <td>object</td>\n",
       "    </tr>\n",
       "    <tr>\n",
       "      <th>embarked</th>\n",
       "      <td>S</td>\n",
       "      <td>object</td>\n",
       "    </tr>\n",
       "    <tr>\n",
       "      <th>cabintype</th>\n",
       "      <td>C</td>\n",
       "      <td>object</td>\n",
       "    </tr>\n",
       "  </tbody>\n",
       "</table>\n",
       "</div>"
      ],
      "text/plain": [
       "              sample    dtype\n",
       "survived           1    int64\n",
       "pclass             1    int64\n",
       "sex             male   object\n",
       "age        38.355472  float64\n",
       "sibsp              2    int64\n",
       "parch              0    int64\n",
       "fare           27.14  float64\n",
       "cabin         C12239   object\n",
       "embarked           S   object\n",
       "cabintype          C   object"
      ]
     },
     "execution_count": 394,
     "metadata": {},
     "output_type": "execute_result"
    }
   ],
   "source": [
    "# Check column datatype with a sample datatype, change datatypes if required\n",
    "res_2 = pd.concat([train_df.iloc[0], train_df.dtypes], axis = 1)\n",
    "res_2.columns = ['sample', 'dtype']\n",
    "\n",
    "res_2 # Here we see that the data type of sample matches with the datatype of the column. Hence no need to change column datatype"
   ]
  },
  {
   "cell_type": "markdown",
   "id": "5408eca5",
   "metadata": {},
   "source": [
    "# Data exploration"
   ]
  },
  {
   "cell_type": "code",
   "execution_count": null,
   "id": "2417286d",
   "metadata": {},
   "outputs": [],
   "source": [
    "\n"
   ]
  },
  {
   "cell_type": "markdown",
   "id": "034945c8",
   "metadata": {},
   "source": [
    "# Summary"
   ]
  },
  {
   "cell_type": "code",
   "execution_count": null,
   "id": "72e3fb13",
   "metadata": {},
   "outputs": [],
   "source": []
  }
 ],
 "metadata": {
  "kernelspec": {
   "display_name": "Python 3 (ipykernel)",
   "language": "python",
   "name": "python3"
  },
  "language_info": {
   "codemirror_mode": {
    "name": "ipython",
    "version": 3
   },
   "file_extension": ".py",
   "mimetype": "text/x-python",
   "name": "python",
   "nbconvert_exporter": "python",
   "pygments_lexer": "ipython3",
   "version": "3.9.7"
  },
  "toc": {
   "base_numbering": 1,
   "nav_menu": {},
   "number_sections": true,
   "sideBar": true,
   "skip_h1_title": false,
   "title_cell": "Table of Contents",
   "title_sidebar": "Contents",
   "toc_cell": false,
   "toc_position": {},
   "toc_section_display": true,
   "toc_window_display": false
  }
 },
 "nbformat": 4,
 "nbformat_minor": 5
}
